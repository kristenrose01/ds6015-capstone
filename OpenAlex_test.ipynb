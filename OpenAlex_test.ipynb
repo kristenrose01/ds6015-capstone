{
 "cells": [
  {
   "cell_type": "code",
   "execution_count": 2,
   "id": "37f12319-6e7d-4068-a087-bbd975f89474",
   "metadata": {},
   "outputs": [
    {
     "name": "stdout",
     "output_type": "stream",
     "text": [
      "Collecting pyalex\n",
      "  Downloading pyalex-0.13-py3-none-any.whl (10 kB)\n",
      "Requirement already satisfied: requests in /Users/kristenrose/opt/anaconda3/lib/python3.9/site-packages (from pyalex) (2.29.0)\n",
      "Requirement already satisfied: urllib3 in /Users/kristenrose/opt/anaconda3/lib/python3.9/site-packages (from pyalex) (1.26.16)\n",
      "Requirement already satisfied: certifi>=2017.4.17 in /Users/kristenrose/opt/anaconda3/lib/python3.9/site-packages (from requests->pyalex) (2024.2.2)\n",
      "Requirement already satisfied: charset-normalizer<4,>=2 in /Users/kristenrose/opt/anaconda3/lib/python3.9/site-packages (from requests->pyalex) (2.0.4)\n",
      "Requirement already satisfied: idna<4,>=2.5 in /Users/kristenrose/opt/anaconda3/lib/python3.9/site-packages (from requests->pyalex) (3.4)\n",
      "Installing collected packages: pyalex\n",
      "Successfully installed pyalex-0.13\n",
      "Note: you may need to restart the kernel to use updated packages.\n"
     ]
    }
   ],
   "source": [
    "pip install pyalex"
   ]
  },
  {
   "cell_type": "markdown",
   "id": "c5180b9e-4179-4a00-a24b-aca8ab85928a",
   "metadata": {
    "jp-MarkdownHeadingCollapsed": true,
    "tags": []
   },
   "source": [
    "### OpenAlex entities\n",
    "Works: Scholarly documents like journal articles, books, datasets, and theses\n",
    "\n",
    "Authors: People who create works\n",
    "\n",
    "Sources: Where works are hosted (such as journals, conferences, and repositories)\n",
    "\n",
    "Institutions: Universities and other organizations to which authors claim affiliations\n",
    "\n",
    "Topics: Topics assigned to works\n",
    "\n",
    "Publishers: Companies and organizations that distribute works\n",
    "\n",
    "Funders: Organizations that fund research\n",
    "\n",
    "Geo: Where things are in the world"
   ]
  },
  {
   "cell_type": "code",
   "execution_count": 7,
   "id": "136c9eb4-760f-4071-b620-07d5cc831186",
   "metadata": {},
   "outputs": [],
   "source": [
    "from pyalex import Works, Authors, Sources, Institutions, Concepts, Publishers, Funders"
   ]
  },
  {
   "cell_type": "code",
   "execution_count": 27,
   "id": "8a33c5e9-803c-403f-a4de-81a38a2a6e03",
   "metadata": {},
   "outputs": [],
   "source": [
    "entities = [Works, Authors, Sources, Institutions, Concepts, Publishers, Funders]"
   ]
  },
  {
   "cell_type": "code",
   "execution_count": 4,
   "id": "ba008217-85e7-4bdc-a9c3-e0f203222181",
   "metadata": {},
   "outputs": [],
   "source": [
    "import pyalex\n",
    "\n",
    "pyalex.config.email = \"krr4de@virginia.edu\""
   ]
  },
  {
   "cell_type": "code",
   "execution_count": 10,
   "id": "58364c8f-b675-42f0-b8fb-4c75c4f8b083",
   "metadata": {},
   "outputs": [],
   "source": [
    "import pandas as pd"
   ]
  },
  {
   "cell_type": "code",
   "execution_count": 16,
   "id": "2a7e66bf-8d54-4e1e-87a3-af02f661b250",
   "metadata": {},
   "outputs": [
    {
     "data": {
      "text/plain": [
       "['id',\n",
       " 'doi',\n",
       " 'title',\n",
       " 'display_name',\n",
       " 'publication_year',\n",
       " 'publication_date',\n",
       " 'ids',\n",
       " 'language',\n",
       " 'primary_location',\n",
       " 'type',\n",
       " 'type_crossref',\n",
       " 'indexed_in',\n",
       " 'open_access',\n",
       " 'authorships',\n",
       " 'countries_distinct_count',\n",
       " 'institutions_distinct_count',\n",
       " 'corresponding_author_ids',\n",
       " 'corresponding_institution_ids',\n",
       " 'apc_list',\n",
       " 'apc_paid',\n",
       " 'has_fulltext',\n",
       " 'cited_by_count',\n",
       " 'cited_by_percentile_year',\n",
       " 'biblio',\n",
       " 'is_retracted',\n",
       " 'is_paratext',\n",
       " 'primary_topic',\n",
       " 'topics',\n",
       " 'keywords',\n",
       " 'concepts',\n",
       " 'mesh',\n",
       " 'locations_count',\n",
       " 'locations',\n",
       " 'best_oa_location',\n",
       " 'sustainable_development_goals',\n",
       " 'grants',\n",
       " 'referenced_works_count',\n",
       " 'referenced_works',\n",
       " 'related_works',\n",
       " 'ngrams_url',\n",
       " 'abstract_inverted_index',\n",
       " 'cited_by_api_url',\n",
       " 'counts_by_year',\n",
       " 'updated_date',\n",
       " 'created_date']"
      ]
     },
     "execution_count": 16,
     "metadata": {},
     "output_type": "execute_result"
    }
   ],
   "source": [
    "list(Works().random().keys())"
   ]
  },
  {
   "cell_type": "code",
   "execution_count": 17,
   "id": "a1d06df2-d1f4-467b-9724-0a4a8365a770",
   "metadata": {},
   "outputs": [
    {
     "data": {
      "text/plain": [
       "['id',\n",
       " 'orcid',\n",
       " 'display_name',\n",
       " 'display_name_alternatives',\n",
       " 'works_count',\n",
       " 'cited_by_count',\n",
       " 'summary_stats',\n",
       " 'ids',\n",
       " 'affiliations',\n",
       " 'last_known_institution',\n",
       " 'last_known_institutions',\n",
       " 'x_concepts',\n",
       " 'counts_by_year',\n",
       " 'works_api_url',\n",
       " 'updated_date',\n",
       " 'created_date']"
      ]
     },
     "execution_count": 17,
     "metadata": {},
     "output_type": "execute_result"
    }
   ],
   "source": [
    "list(Authors().random().keys())"
   ]
  },
  {
   "cell_type": "code",
   "execution_count": 18,
   "id": "d250dcba-08da-4826-ada7-51b855f4ede0",
   "metadata": {},
   "outputs": [
    {
     "data": {
      "text/plain": [
       "['id',\n",
       " 'issn_l',\n",
       " 'issn',\n",
       " 'display_name',\n",
       " 'host_organization',\n",
       " 'host_organization_name',\n",
       " 'host_organization_lineage',\n",
       " 'works_count',\n",
       " 'cited_by_count',\n",
       " 'summary_stats',\n",
       " 'is_oa',\n",
       " 'is_in_doaj',\n",
       " 'ids',\n",
       " 'homepage_url',\n",
       " 'apc_prices',\n",
       " 'apc_usd',\n",
       " 'country_code',\n",
       " 'societies',\n",
       " 'alternate_titles',\n",
       " 'abbreviated_title',\n",
       " 'type',\n",
       " 'x_concepts',\n",
       " 'counts_by_year',\n",
       " 'works_api_url',\n",
       " 'updated_date',\n",
       " 'created_date']"
      ]
     },
     "execution_count": 18,
     "metadata": {},
     "output_type": "execute_result"
    }
   ],
   "source": [
    "list(Sources().random().keys())"
   ]
  },
  {
   "cell_type": "code",
   "execution_count": 19,
   "id": "76b5464a-1f62-4f45-8352-7771e261ce60",
   "metadata": {},
   "outputs": [
    {
     "data": {
      "text/plain": [
       "['id',\n",
       " 'ror',\n",
       " 'display_name',\n",
       " 'country_code',\n",
       " 'type',\n",
       " 'lineage',\n",
       " 'homepage_url',\n",
       " 'image_url',\n",
       " 'image_thumbnail_url',\n",
       " 'display_name_acronyms',\n",
       " 'display_name_alternatives',\n",
       " 'repositories',\n",
       " 'works_count',\n",
       " 'cited_by_count',\n",
       " 'summary_stats',\n",
       " 'ids',\n",
       " 'geo',\n",
       " 'international',\n",
       " 'associated_institutions',\n",
       " 'counts_by_year',\n",
       " 'roles',\n",
       " 'x_concepts',\n",
       " 'works_api_url',\n",
       " 'updated_date',\n",
       " 'created_date']"
      ]
     },
     "execution_count": 19,
     "metadata": {},
     "output_type": "execute_result"
    }
   ],
   "source": [
    "list(Institutions().random().keys())"
   ]
  },
  {
   "cell_type": "code",
   "execution_count": 20,
   "id": "bf073f5a-b1fe-4a96-bac8-e4e74437be38",
   "metadata": {},
   "outputs": [
    {
     "data": {
      "text/plain": [
       "['id',\n",
       " 'wikidata',\n",
       " 'display_name',\n",
       " 'level',\n",
       " 'description',\n",
       " 'works_count',\n",
       " 'cited_by_count',\n",
       " 'summary_stats',\n",
       " 'ids',\n",
       " 'image_url',\n",
       " 'image_thumbnail_url',\n",
       " 'international',\n",
       " 'ancestors',\n",
       " 'related_concepts',\n",
       " 'counts_by_year',\n",
       " 'works_api_url',\n",
       " 'updated_date',\n",
       " 'created_date']"
      ]
     },
     "execution_count": 20,
     "metadata": {},
     "output_type": "execute_result"
    }
   ],
   "source": [
    "list(Concepts().random().keys())\n",
    "'''\n",
    "These are the original OpenAlex Concepts, which are being deprecated in favor of Topics. \n",
    "We will continue to provide these Concepts for Works, but we will not be actively maintaining, updating, or providing \n",
    "support for these concepts. Unless you have a good reason to be relying on them, we encourage you to look into Topics instead.\n",
    "'''"
   ]
  },
  {
   "cell_type": "code",
   "execution_count": 21,
   "id": "58f7ab2f-6cbd-4b05-bbcf-1729e64b1b25",
   "metadata": {},
   "outputs": [
    {
     "data": {
      "text/plain": [
       "['id',\n",
       " 'display_name',\n",
       " 'alternate_titles',\n",
       " 'hierarchy_level',\n",
       " 'parent_publisher',\n",
       " 'lineage',\n",
       " 'country_codes',\n",
       " 'homepage_url',\n",
       " 'image_url',\n",
       " 'image_thumbnail_url',\n",
       " 'works_count',\n",
       " 'cited_by_count',\n",
       " 'summary_stats',\n",
       " 'ids',\n",
       " 'counts_by_year',\n",
       " 'roles',\n",
       " 'sources_api_url',\n",
       " 'updated_date',\n",
       " 'created_date']"
      ]
     },
     "execution_count": 21,
     "metadata": {},
     "output_type": "execute_result"
    }
   ],
   "source": [
    "list(Publishers().random().keys())"
   ]
  },
  {
   "cell_type": "code",
   "execution_count": 22,
   "id": "40621d82-ae59-4b75-987d-3a441de523bf",
   "metadata": {},
   "outputs": [
    {
     "data": {
      "text/plain": [
       "['id',\n",
       " 'display_name',\n",
       " 'alternate_titles',\n",
       " 'country_code',\n",
       " 'description',\n",
       " 'homepage_url',\n",
       " 'image_url',\n",
       " 'image_thumbnail_url',\n",
       " 'grants_count',\n",
       " 'works_count',\n",
       " 'cited_by_count',\n",
       " 'summary_stats',\n",
       " 'ids',\n",
       " 'counts_by_year',\n",
       " 'roles',\n",
       " 'updated_date',\n",
       " 'created_date']"
      ]
     },
     "execution_count": 22,
     "metadata": {},
     "output_type": "execute_result"
    }
   ],
   "source": [
    "list(Funders().random().keys())"
   ]
  },
  {
   "cell_type": "code",
   "execution_count": 25,
   "id": "bdb9e2e9-21da-4d61-bd03-746ae6bf38e2",
   "metadata": {},
   "outputs": [
    {
     "data": {
      "text/plain": [
       "'We present random quantum circuit models for non-unitary quantum dynamics of free fermions in one spatial dimension. Numerical simulations reveal that the dynamics tends towards steady states with logarithmic violations of the entanglement area law and power law correlation functions. Moreover, starting with a short-range entangled many-body state, the dynamical evolution of entanglement and correlations quantitatively agrees with the predictions of two-dimensional conformal field theory with a space-like time direction. We argue that this behavior is generic in non-unitary free quantum dynamics with time-dependent randomness, and show that the emergent conformal dynamics of two-point functions arises out of a simple \"nonlinear master equation\".'"
      ]
     },
     "execution_count": 25,
     "metadata": {},
     "output_type": "execute_result"
    }
   ],
   "source": [
    "Works().random()[\"abstract\"]"
   ]
  },
  {
   "cell_type": "code",
   "execution_count": 30,
   "id": "12e7eb1e-1564-470e-82e6-c84600a28e67",
   "metadata": {},
   "outputs": [],
   "source": [
    "entity_counts = []\n",
    "for entity in entities:\n",
    "    entity_counts.append(entity().count())"
   ]
  },
  {
   "cell_type": "code",
   "execution_count": 52,
   "id": "68babe75-3a74-4236-8725-3d499f4c9fa5",
   "metadata": {},
   "outputs": [
    {
     "data": {
      "text/html": [
       "<div>\n",
       "<style scoped>\n",
       "    .dataframe tbody tr th:only-of-type {\n",
       "        vertical-align: middle;\n",
       "    }\n",
       "\n",
       "    .dataframe tbody tr th {\n",
       "        vertical-align: top;\n",
       "    }\n",
       "\n",
       "    .dataframe thead th {\n",
       "        text-align: right;\n",
       "    }\n",
       "</style>\n",
       "<table border=\"1\" class=\"dataframe\">\n",
       "  <thead>\n",
       "    <tr style=\"text-align: right;\">\n",
       "      <th></th>\n",
       "      <th>Count</th>\n",
       "      <th>Entity</th>\n",
       "    </tr>\n",
       "  </thead>\n",
       "  <tbody>\n",
       "    <tr>\n",
       "      <th>0</th>\n",
       "      <td>249179994</td>\n",
       "      <td>Works</td>\n",
       "    </tr>\n",
       "    <tr>\n",
       "      <th>1</th>\n",
       "      <td>90323601</td>\n",
       "      <td>Authors</td>\n",
       "    </tr>\n",
       "    <tr>\n",
       "      <th>2</th>\n",
       "      <td>251787</td>\n",
       "      <td>Sources</td>\n",
       "    </tr>\n",
       "    <tr>\n",
       "      <th>3</th>\n",
       "      <td>107447</td>\n",
       "      <td>Institutions</td>\n",
       "    </tr>\n",
       "    <tr>\n",
       "      <th>4</th>\n",
       "      <td>65073</td>\n",
       "      <td>Concepts</td>\n",
       "    </tr>\n",
       "    <tr>\n",
       "      <th>6</th>\n",
       "      <td>32437</td>\n",
       "      <td>Funders</td>\n",
       "    </tr>\n",
       "    <tr>\n",
       "      <th>5</th>\n",
       "      <td>10249</td>\n",
       "      <td>Publishers</td>\n",
       "    </tr>\n",
       "  </tbody>\n",
       "</table>\n",
       "</div>"
      ],
      "text/plain": [
       "       Count        Entity\n",
       "0  249179994         Works\n",
       "1   90323601       Authors\n",
       "2     251787       Sources\n",
       "3     107447  Institutions\n",
       "4      65073      Concepts\n",
       "6      32437       Funders\n",
       "5      10249    Publishers"
      ]
     },
     "execution_count": 52,
     "metadata": {},
     "output_type": "execute_result"
    }
   ],
   "source": [
    "pd.DataFrame([entity.__name__ for entity in entities], entity_counts).reset_index().rename(columns={'index':'Count', 0:'Entity'}).sort_values('Count',ascending=False)"
   ]
  },
  {
   "cell_type": "code",
   "execution_count": 86,
   "id": "3b888125-6805-414b-a08d-bd9b83f11285",
   "metadata": {},
   "outputs": [],
   "source": [
    "works = Works().get(per_page=200)"
   ]
  },
  {
   "cell_type": "markdown",
   "id": "7c901358-2089-4583-ab74-b534d868cae8",
   "metadata": {
    "tags": []
   },
   "source": [
    "### Training Pair 1: Title-Abstract"
   ]
  },
  {
   "cell_type": "code",
   "execution_count": null,
   "id": "de31de71-63cb-44e6-9bc5-56c06e4fee9a",
   "metadata": {},
   "outputs": [],
   "source": [
    "titles = [work['title'] for work in works]"
   ]
  },
  {
   "cell_type": "code",
   "execution_count": 89,
   "id": "1bfba4ff-e700-46fd-a3d3-db7bacf18614",
   "metadata": {},
   "outputs": [],
   "source": [
    "abstracts = [work['abstract'] for work in works]"
   ]
  },
  {
   "cell_type": "code",
   "execution_count": 95,
   "id": "3201bea7-7bfb-4053-972f-dce1ecb0ad0f",
   "metadata": {},
   "outputs": [],
   "source": [
    "title_abs_pairs = [{\"texts\": [title, abstract]} for title, abstract in zip(titles, abstracts)]"
   ]
  },
  {
   "cell_type": "code",
   "execution_count": 101,
   "id": "ca91678a-df93-4ec2-8f57-40ef6d688d79",
   "metadata": {},
   "outputs": [
    {
     "data": {
      "text/plain": [
       "[{'texts': ['PROTEIN MEASUREMENT WITH THE FOLIN PHENOL REAGENT',\n",
       "   'Since 1922 when Wu proposed the use of the Folin phenol reagent for the measurement of proteins (l), a number of modified analytical procedures ut.ilizing this reagent have been reported for the determination of proteins in serum (2-G), in antigen-antibody precipitates (7-9), and in insulin (10).Although the reagent would seem to be recommended by its great sensitivity and the simplicity of procedure possible with its use, it has not found great favor for general biochemical purposes.In the belief that this reagent, nevertheless, has considerable merit for certain application, but that its peculiarities and limitations need to be understood for its fullest exploitation, it has been studied with regard t.o effects of variations in pH, time of reaction, and concentration of reactants, permissible levels of reagents commonly used in handling proteins, and interfering subst.ances.Procedures are described for measuring protein in solution or after precipitation wit,h acids or other agents, and for the determination of as little as 0.2 y of protein. MethodReagents-Reagent A, 2 per cent N&OX in 0.10 N NaOH.Reagent B, 0.5 per cent CuS04.5Hz0 in 1 per cent sodium or potassium tartrabe.Reagent C, alkaline copper solution.Mix 50 ml. of Reagent A with 1 ml. of Reagent B. Discard after 1 day.Reagent D, carbonate-copper solution, is the same as Reagent C except for omission of NaOH.Reagent E, diluted Folin reagent.Titrate Folin-Ciocalteu phenol reagent ((II), Eimer and Amend, Fisher Scientific Company, New York) with NaOH t.o a phenolphthalein end-point.On the basis of this titration dilute the Folin reagent (about 2-fold) to make it 1 N in acid.Working standards may be prepared from human serum diluted IOO-to lOOO-fold (approximately 700 to 70 y per ml.).These in turn may be checked against a standard solution of crystalline bovine albumin (Armour and']},\n",
       " {'texts': ['Cleavage of Structural Proteins during the Assembly of the Head of Bacteriophage T4',\n",
       "   None]},\n",
       " {'texts': ['A rapid and sensitive method for the quantitation of microgram quantities of protein utilizing the principle of protein-dye binding',\n",
       "   'A protein determination method which involves the binding of Coomassie Brilliant Blue G-250 to protein is described. The binding of the dye to protein causes a shift in the absorption maximum of the dye from 465 to 595 nm, and it is the increase in absorption at 595 nm which is monitored. This assay is very reproducible and rapid with the dye binding process virtually complete in approximately 2 min with good color stability for 1 hr. There is little or no interference from cations such as sodium or potassium nor from carbohydrates such as sucrose. A small amount of color is developed in the presence of strongly alkaline buffering agents, but the assay may be run accurately by the use of proper buffer controls. The only components found to give excessive interfering color in the assay are relatively large amounts of detergents such as sodium dodecyl sulfate, Triton X-100, and commercial glassware detergents. Interference by small amounts of detergent may be eliminated by the use of proper controls.']}]"
      ]
     },
     "execution_count": 101,
     "metadata": {},
     "output_type": "execute_result"
    }
   ],
   "source": [
    "title_abs_pairs[0:3]"
   ]
  },
  {
   "cell_type": "markdown",
   "id": "b4898997-bd8f-4fd3-a675-0df7368f5933",
   "metadata": {
    "tags": []
   },
   "source": [
    "### Training Pair 2: Title-Keywords"
   ]
  },
  {
   "cell_type": "code",
   "execution_count": 126,
   "id": "c48cb69e-96d0-489d-9ff3-2c31822d2dc5",
   "metadata": {},
   "outputs": [],
   "source": [
    "keyword_dicts = [work['keywords'] for work in works]"
   ]
  },
  {
   "cell_type": "code",
   "execution_count": 137,
   "id": "cf72a6b8-f40f-4175-bd94-9a6e7180d6f0",
   "metadata": {},
   "outputs": [],
   "source": [
    "keywords = [[keyword['keyword'] for keyword in sublist] for sublist in keyword_dicts]"
   ]
  },
  {
   "cell_type": "code",
   "execution_count": 129,
   "id": "aad07b3b-aeb9-495e-90bb-988ab1cb7097",
   "metadata": {},
   "outputs": [],
   "source": [
    "title_keyword_pairs = [{\"texts\": [title, keywords]} for title, keywords in zip(titles, keywords)]"
   ]
  },
  {
   "cell_type": "code",
   "execution_count": 130,
   "id": "4bf8c460-5133-4bdb-80bd-31059562f2b9",
   "metadata": {},
   "outputs": [
    {
     "data": {
      "text/plain": [
       "[{'texts': ['PROTEIN MEASUREMENT WITH THE FOLIN PHENOL REAGENT',\n",
       "   ['folin phenol reagent', 'protein']]},\n",
       " {'texts': ['Cleavage of Structural Proteins during the Assembly of the Head of Bacteriophage T4',\n",
       "   ['bacteriophage t4', 'structural proteins', 'head']]},\n",
       " {'texts': ['A rapid and sensitive method for the quantitation of microgram quantities of protein utilizing the principle of protein-dye binding',\n",
       "   ['microgram quantities', 'protein-dye']]}]"
      ]
     },
     "execution_count": 130,
     "metadata": {},
     "output_type": "execute_result"
    }
   ],
   "source": [
    "title_keyword_pairs[0:3]"
   ]
  },
  {
   "cell_type": "markdown",
   "id": "2aaa56dc-5f5c-4ae4-8d59-ce6d23a8741b",
   "metadata": {
    "tags": []
   },
   "source": [
    "### Training Pair 3: Title-Topics"
   ]
  },
  {
   "cell_type": "code",
   "execution_count": 135,
   "id": "224a430c-5505-4983-9e04-9c1b8c85b24a",
   "metadata": {},
   "outputs": [],
   "source": [
    "topics_dicts = [work['topics'] for work in works]"
   ]
  },
  {
   "cell_type": "code",
   "execution_count": 138,
   "id": "5dd730a7-ad4d-492c-adfe-bf561fa16b5a",
   "metadata": {},
   "outputs": [],
   "source": [
    "topics = [[topic['display_name'] for topic in sublist] for sublist in topics_dicts]"
   ]
  },
  {
   "cell_type": "code",
   "execution_count": 139,
   "id": "2fad7f17-85b0-4234-abae-26cd9b1553f8",
   "metadata": {},
   "outputs": [],
   "source": [
    "title_topic_pairs = [{\"texts\": [title, topic]} for title, topics in zip(titles, topics)]"
   ]
  },
  {
   "cell_type": "code",
   "execution_count": 140,
   "id": "78076c05-61d6-4b1c-a5fe-3588af2d4693",
   "metadata": {},
   "outputs": [
    {
     "data": {
      "text/plain": [
       "[{'texts': ['PROTEIN MEASUREMENT WITH THE FOLIN PHENOL REAGENT',\n",
       "   ['Glycosylation in Health and Disease',\n",
       "    'Protein Metabolism in Exercise and Nutrition',\n",
       "    'Oxidation States in Biochemistry and Medicine']]},\n",
       " {'texts': ['Cleavage of Structural Proteins during the Assembly of the Head of Bacteriophage T4',\n",
       "   ['Ecology and Evolution of Viruses in Ecosystems',\n",
       "    'RNA Sequencing Data Analysis',\n",
       "    'Protein Structure Prediction and Analysis']]},\n",
       " {'texts': ['A rapid and sensitive method for the quantitation of microgram quantities of protein utilizing the principle of protein-dye binding',\n",
       "   ['Factors Affecting Meat Quality and Preservation',\n",
       "    'Microbial Interactions in Wine Production and Flavor',\n",
       "    'Protein Metabolism in Exercise and Nutrition']]}]"
      ]
     },
     "execution_count": 140,
     "metadata": {},
     "output_type": "execute_result"
    }
   ],
   "source": [
    "title_topic_pairs[0:3]"
   ]
  },
  {
   "cell_type": "markdown",
   "id": "04aa6662-f745-43ee-88dd-c37bf2674e19",
   "metadata": {
    "tags": []
   },
   "source": [
    "### Training Pair 4: Title-Journal"
   ]
  },
  {
   "cell_type": "code",
   "execution_count": 169,
   "id": "1653cff7-708b-4de4-9647-d0c214aa3db4",
   "metadata": {},
   "outputs": [],
   "source": [
    "journals = [work['primary_location']['source']['display_name'] if 'primary_location' in work and work['primary_location'] is not None and 'source' in work['primary_location'] and work['primary_location']['source'] is not None and 'display_name' in work['primary_location']['source'] else '' for work in works]"
   ]
  },
  {
   "cell_type": "code",
   "execution_count": 171,
   "id": "bee9b669-8d1c-4b17-af32-6dd43a653147",
   "metadata": {},
   "outputs": [],
   "source": [
    "title_journal_pairs = [{\"texts\": [title, journal]} for title, journal in zip(titles, journals)]"
   ]
  },
  {
   "cell_type": "code",
   "execution_count": 172,
   "id": "1c968bb4-20ff-4152-912d-05fc7feb1426",
   "metadata": {},
   "outputs": [
    {
     "data": {
      "text/plain": [
       "[{'texts': ['PROTEIN MEASUREMENT WITH THE FOLIN PHENOL REAGENT',\n",
       "   'Journal of Biological Chemistry']},\n",
       " {'texts': ['Cleavage of Structural Proteins during the Assembly of the Head of Bacteriophage T4',\n",
       "   'Nature']},\n",
       " {'texts': ['A rapid and sensitive method for the quantitation of microgram quantities of protein utilizing the principle of protein-dye binding',\n",
       "   'Analytical Biochemistry']}]"
      ]
     },
     "execution_count": 172,
     "metadata": {},
     "output_type": "execute_result"
    }
   ],
   "source": [
    "title_journal_pairs[0:3]"
   ]
  },
  {
   "cell_type": "markdown",
   "id": "d0b326bb-c516-4ded-a4b3-1e5326814da5",
   "metadata": {
    "tags": []
   },
   "source": [
    "### Training Pair 5: Abstract-Keywords"
   ]
  },
  {
   "cell_type": "code",
   "execution_count": 173,
   "id": "9a270af3-0f08-46cd-9048-c00939a1cb95",
   "metadata": {},
   "outputs": [],
   "source": [
    "abs_keyword_pairs = [{\"texts\": [abstract, keywords]} for abstract, keywords in zip(abstracts, keywords)]"
   ]
  },
  {
   "cell_type": "code",
   "execution_count": 174,
   "id": "95e48a0a-3caf-4806-be5f-9c46434151fe",
   "metadata": {},
   "outputs": [
    {
     "data": {
      "text/plain": [
       "[{'texts': ['Since 1922 when Wu proposed the use of the Folin phenol reagent for the measurement of proteins (l), a number of modified analytical procedures ut.ilizing this reagent have been reported for the determination of proteins in serum (2-G), in antigen-antibody precipitates (7-9), and in insulin (10).Although the reagent would seem to be recommended by its great sensitivity and the simplicity of procedure possible with its use, it has not found great favor for general biochemical purposes.In the belief that this reagent, nevertheless, has considerable merit for certain application, but that its peculiarities and limitations need to be understood for its fullest exploitation, it has been studied with regard t.o effects of variations in pH, time of reaction, and concentration of reactants, permissible levels of reagents commonly used in handling proteins, and interfering subst.ances.Procedures are described for measuring protein in solution or after precipitation wit,h acids or other agents, and for the determination of as little as 0.2 y of protein. MethodReagents-Reagent A, 2 per cent N&OX in 0.10 N NaOH.Reagent B, 0.5 per cent CuS04.5Hz0 in 1 per cent sodium or potassium tartrabe.Reagent C, alkaline copper solution.Mix 50 ml. of Reagent A with 1 ml. of Reagent B. Discard after 1 day.Reagent D, carbonate-copper solution, is the same as Reagent C except for omission of NaOH.Reagent E, diluted Folin reagent.Titrate Folin-Ciocalteu phenol reagent ((II), Eimer and Amend, Fisher Scientific Company, New York) with NaOH t.o a phenolphthalein end-point.On the basis of this titration dilute the Folin reagent (about 2-fold) to make it 1 N in acid.Working standards may be prepared from human serum diluted IOO-to lOOO-fold (approximately 700 to 70 y per ml.).These in turn may be checked against a standard solution of crystalline bovine albumin (Armour and',\n",
       "   ['folin phenol reagent', 'protein']]},\n",
       " {'texts': [None, ['bacteriophage t4', 'structural proteins', 'head']]},\n",
       " {'texts': ['A protein determination method which involves the binding of Coomassie Brilliant Blue G-250 to protein is described. The binding of the dye to protein causes a shift in the absorption maximum of the dye from 465 to 595 nm, and it is the increase in absorption at 595 nm which is monitored. This assay is very reproducible and rapid with the dye binding process virtually complete in approximately 2 min with good color stability for 1 hr. There is little or no interference from cations such as sodium or potassium nor from carbohydrates such as sucrose. A small amount of color is developed in the presence of strongly alkaline buffering agents, but the assay may be run accurately by the use of proper buffer controls. The only components found to give excessive interfering color in the assay are relatively large amounts of detergents such as sodium dodecyl sulfate, Triton X-100, and commercial glassware detergents. Interference by small amounts of detergent may be eliminated by the use of proper controls.',\n",
       "   ['microgram quantities', 'protein-dye']]}]"
      ]
     },
     "execution_count": 174,
     "metadata": {},
     "output_type": "execute_result"
    }
   ],
   "source": [
    "abs_keyword_pairs[0:3]"
   ]
  },
  {
   "cell_type": "markdown",
   "id": "960762e4-f523-4d35-9512-e020c09aa243",
   "metadata": {
    "tags": []
   },
   "source": [
    "### Training Pair 6: Abstract-Topics"
   ]
  },
  {
   "cell_type": "code",
   "execution_count": 175,
   "id": "46001ae4-b001-4e39-9844-d54602ead52e",
   "metadata": {},
   "outputs": [],
   "source": [
    "abs_topic_pairs = [{\"texts\": [abstract, topics]} for abstract, topics in zip(abstracts, topics)]"
   ]
  },
  {
   "cell_type": "code",
   "execution_count": 176,
   "id": "2156bdd1-d541-4022-b908-48238ba9793c",
   "metadata": {},
   "outputs": [
    {
     "data": {
      "text/plain": [
       "[{'texts': ['Since 1922 when Wu proposed the use of the Folin phenol reagent for the measurement of proteins (l), a number of modified analytical procedures ut.ilizing this reagent have been reported for the determination of proteins in serum (2-G), in antigen-antibody precipitates (7-9), and in insulin (10).Although the reagent would seem to be recommended by its great sensitivity and the simplicity of procedure possible with its use, it has not found great favor for general biochemical purposes.In the belief that this reagent, nevertheless, has considerable merit for certain application, but that its peculiarities and limitations need to be understood for its fullest exploitation, it has been studied with regard t.o effects of variations in pH, time of reaction, and concentration of reactants, permissible levels of reagents commonly used in handling proteins, and interfering subst.ances.Procedures are described for measuring protein in solution or after precipitation wit,h acids or other agents, and for the determination of as little as 0.2 y of protein. MethodReagents-Reagent A, 2 per cent N&OX in 0.10 N NaOH.Reagent B, 0.5 per cent CuS04.5Hz0 in 1 per cent sodium or potassium tartrabe.Reagent C, alkaline copper solution.Mix 50 ml. of Reagent A with 1 ml. of Reagent B. Discard after 1 day.Reagent D, carbonate-copper solution, is the same as Reagent C except for omission of NaOH.Reagent E, diluted Folin reagent.Titrate Folin-Ciocalteu phenol reagent ((II), Eimer and Amend, Fisher Scientific Company, New York) with NaOH t.o a phenolphthalein end-point.On the basis of this titration dilute the Folin reagent (about 2-fold) to make it 1 N in acid.Working standards may be prepared from human serum diluted IOO-to lOOO-fold (approximately 700 to 70 y per ml.).These in turn may be checked against a standard solution of crystalline bovine albumin (Armour and',\n",
       "   ['Glycosylation in Health and Disease',\n",
       "    'Protein Metabolism in Exercise and Nutrition',\n",
       "    'Oxidation States in Biochemistry and Medicine']]},\n",
       " {'texts': [None,\n",
       "   ['Ecology and Evolution of Viruses in Ecosystems',\n",
       "    'RNA Sequencing Data Analysis',\n",
       "    'Protein Structure Prediction and Analysis']]},\n",
       " {'texts': ['A protein determination method which involves the binding of Coomassie Brilliant Blue G-250 to protein is described. The binding of the dye to protein causes a shift in the absorption maximum of the dye from 465 to 595 nm, and it is the increase in absorption at 595 nm which is monitored. This assay is very reproducible and rapid with the dye binding process virtually complete in approximately 2 min with good color stability for 1 hr. There is little or no interference from cations such as sodium or potassium nor from carbohydrates such as sucrose. A small amount of color is developed in the presence of strongly alkaline buffering agents, but the assay may be run accurately by the use of proper buffer controls. The only components found to give excessive interfering color in the assay are relatively large amounts of detergents such as sodium dodecyl sulfate, Triton X-100, and commercial glassware detergents. Interference by small amounts of detergent may be eliminated by the use of proper controls.',\n",
       "   ['Factors Affecting Meat Quality and Preservation',\n",
       "    'Microbial Interactions in Wine Production and Flavor',\n",
       "    'Protein Metabolism in Exercise and Nutrition']]}]"
      ]
     },
     "execution_count": 176,
     "metadata": {},
     "output_type": "execute_result"
    }
   ],
   "source": [
    "abs_topic_pairs[0:3]"
   ]
  },
  {
   "cell_type": "markdown",
   "id": "cf0b275e-665f-4e82-bca7-420492f0f7f9",
   "metadata": {
    "tags": []
   },
   "source": [
    "### Training Pair 7: Abstract-Journal"
   ]
  },
  {
   "cell_type": "code",
   "execution_count": 177,
   "id": "ff0567db-add7-404f-8af4-4e2dab973408",
   "metadata": {},
   "outputs": [],
   "source": [
    "abs_journal_pairs = [{\"texts\": [abstract, journal]} for abstract, journal in zip(abstracts, journals)]"
   ]
  },
  {
   "cell_type": "code",
   "execution_count": 178,
   "id": "5739b58f-a670-4320-bdd1-17b1d4086fc8",
   "metadata": {},
   "outputs": [
    {
     "data": {
      "text/plain": [
       "[{'texts': ['Since 1922 when Wu proposed the use of the Folin phenol reagent for the measurement of proteins (l), a number of modified analytical procedures ut.ilizing this reagent have been reported for the determination of proteins in serum (2-G), in antigen-antibody precipitates (7-9), and in insulin (10).Although the reagent would seem to be recommended by its great sensitivity and the simplicity of procedure possible with its use, it has not found great favor for general biochemical purposes.In the belief that this reagent, nevertheless, has considerable merit for certain application, but that its peculiarities and limitations need to be understood for its fullest exploitation, it has been studied with regard t.o effects of variations in pH, time of reaction, and concentration of reactants, permissible levels of reagents commonly used in handling proteins, and interfering subst.ances.Procedures are described for measuring protein in solution or after precipitation wit,h acids or other agents, and for the determination of as little as 0.2 y of protein. MethodReagents-Reagent A, 2 per cent N&OX in 0.10 N NaOH.Reagent B, 0.5 per cent CuS04.5Hz0 in 1 per cent sodium or potassium tartrabe.Reagent C, alkaline copper solution.Mix 50 ml. of Reagent A with 1 ml. of Reagent B. Discard after 1 day.Reagent D, carbonate-copper solution, is the same as Reagent C except for omission of NaOH.Reagent E, diluted Folin reagent.Titrate Folin-Ciocalteu phenol reagent ((II), Eimer and Amend, Fisher Scientific Company, New York) with NaOH t.o a phenolphthalein end-point.On the basis of this titration dilute the Folin reagent (about 2-fold) to make it 1 N in acid.Working standards may be prepared from human serum diluted IOO-to lOOO-fold (approximately 700 to 70 y per ml.).These in turn may be checked against a standard solution of crystalline bovine albumin (Armour and',\n",
       "   ['Glycosylation in Health and Disease',\n",
       "    'Protein Metabolism in Exercise and Nutrition',\n",
       "    'Oxidation States in Biochemistry and Medicine']]},\n",
       " {'texts': [None,\n",
       "   ['Ecology and Evolution of Viruses in Ecosystems',\n",
       "    'RNA Sequencing Data Analysis',\n",
       "    'Protein Structure Prediction and Analysis']]},\n",
       " {'texts': ['A protein determination method which involves the binding of Coomassie Brilliant Blue G-250 to protein is described. The binding of the dye to protein causes a shift in the absorption maximum of the dye from 465 to 595 nm, and it is the increase in absorption at 595 nm which is monitored. This assay is very reproducible and rapid with the dye binding process virtually complete in approximately 2 min with good color stability for 1 hr. There is little or no interference from cations such as sodium or potassium nor from carbohydrates such as sucrose. A small amount of color is developed in the presence of strongly alkaline buffering agents, but the assay may be run accurately by the use of proper buffer controls. The only components found to give excessive interfering color in the assay are relatively large amounts of detergents such as sodium dodecyl sulfate, Triton X-100, and commercial glassware detergents. Interference by small amounts of detergent may be eliminated by the use of proper controls.',\n",
       "   ['Factors Affecting Meat Quality and Preservation',\n",
       "    'Microbial Interactions in Wine Production and Flavor',\n",
       "    'Protein Metabolism in Exercise and Nutrition']]}]"
      ]
     },
     "execution_count": 178,
     "metadata": {},
     "output_type": "execute_result"
    }
   ],
   "source": [
    "abs_topic_pairs[0:3]"
   ]
  },
  {
   "cell_type": "markdown",
   "id": "e9895be9-16dc-4362-913a-f3c48e98dcfa",
   "metadata": {
    "tags": []
   },
   "source": [
    "### Training Pair 8: Title-Funder"
   ]
  },
  {
   "cell_type": "code",
   "execution_count": null,
   "id": "4ec8b029-b917-4063-95dc-3bb2a7df09e9",
   "metadata": {},
   "outputs": [],
   "source": [
    "### Not useful here as grants data is limited for works (only 4/200 articles have data)"
   ]
  },
  {
   "cell_type": "code",
   "execution_count": 215,
   "id": "d9edf1de-0c43-487b-bd13-70112ccdf269",
   "metadata": {},
   "outputs": [],
   "source": [
    "grants = [work['grants'] for work in works]"
   ]
  },
  {
   "cell_type": "code",
   "execution_count": 216,
   "id": "9f105829-f533-4fc2-a5cc-5b06941d6e4b",
   "metadata": {},
   "outputs": [
    {
     "data": {
      "text/plain": [
       "[[],\n",
       " [],\n",
       " [],\n",
       " [],\n",
       " [],\n",
       " [],\n",
       " [],\n",
       " [],\n",
       " [],\n",
       " [],\n",
       " [],\n",
       " [],\n",
       " [],\n",
       " [],\n",
       " [],\n",
       " [],\n",
       " [],\n",
       " [],\n",
       " [],\n",
       " [],\n",
       " [],\n",
       " [],\n",
       " [],\n",
       " [],\n",
       " [],\n",
       " [],\n",
       " [],\n",
       " [],\n",
       " [],\n",
       " [],\n",
       " [],\n",
       " [],\n",
       " [],\n",
       " [],\n",
       " [],\n",
       " [],\n",
       " [],\n",
       " [],\n",
       " [],\n",
       " [],\n",
       " [],\n",
       " [],\n",
       " [],\n",
       " [],\n",
       " [],\n",
       " [],\n",
       " [],\n",
       " [],\n",
       " [],\n",
       " [],\n",
       " [],\n",
       " [],\n",
       " [],\n",
       " [],\n",
       " [],\n",
       " [],\n",
       " [],\n",
       " [],\n",
       " [],\n",
       " [],\n",
       " [],\n",
       " [],\n",
       " [],\n",
       " [],\n",
       " [],\n",
       " [],\n",
       " [],\n",
       " [],\n",
       " [],\n",
       " [],\n",
       " [],\n",
       " [],\n",
       " [],\n",
       " [],\n",
       " [],\n",
       " [],\n",
       " [],\n",
       " [],\n",
       " [],\n",
       " [],\n",
       " [],\n",
       " [],\n",
       " [],\n",
       " [],\n",
       " [],\n",
       " [],\n",
       " [],\n",
       " [],\n",
       " [],\n",
       " [],\n",
       " [],\n",
       " [],\n",
       " [],\n",
       " [],\n",
       " [],\n",
       " [],\n",
       " [],\n",
       " [],\n",
       " [],\n",
       " [{'funder': 'https://openalex.org/F4320332161',\n",
       "   'funder_display_name': 'National Institutes of Health',\n",
       "   'award_id': None}],\n",
       " [],\n",
       " [],\n",
       " [],\n",
       " [],\n",
       " [],\n",
       " [],\n",
       " [],\n",
       " [],\n",
       " [],\n",
       " [],\n",
       " [],\n",
       " [],\n",
       " [],\n",
       " [],\n",
       " [],\n",
       " [],\n",
       " [],\n",
       " [],\n",
       " [],\n",
       " [],\n",
       " [],\n",
       " [],\n",
       " [],\n",
       " [],\n",
       " [],\n",
       " [],\n",
       " [],\n",
       " [],\n",
       " [],\n",
       " [],\n",
       " [],\n",
       " [],\n",
       " [],\n",
       " [],\n",
       " [],\n",
       " [],\n",
       " [],\n",
       " [{'funder': 'https://openalex.org/F4320321040',\n",
       "   'funder_display_name': 'National Science Council',\n",
       "   'award_id': 'NSC 89-2213-E-002-013NSC 89-2213-E-002-106'}],\n",
       " [],\n",
       " [],\n",
       " [],\n",
       " [],\n",
       " [],\n",
       " [],\n",
       " [],\n",
       " [],\n",
       " [{'funder': 'https://openalex.org/F4320306084',\n",
       "   'funder_display_name': 'U.S. Department of Energy',\n",
       "   'award_id': 'DE‐AT06‐76EV71005'},\n",
       "  {'funder': 'https://openalex.org/F4320310094',\n",
       "   'funder_display_name': 'University of Washington',\n",
       "   'award_id': 'DE‐AM06‐76RL02225'}],\n",
       " [],\n",
       " [],\n",
       " [],\n",
       " [],\n",
       " [],\n",
       " [],\n",
       " [],\n",
       " [],\n",
       " [],\n",
       " [],\n",
       " [],\n",
       " [],\n",
       " [],\n",
       " [],\n",
       " [],\n",
       " [],\n",
       " [],\n",
       " [],\n",
       " [],\n",
       " [],\n",
       " [],\n",
       " [],\n",
       " [],\n",
       " [],\n",
       " [],\n",
       " [],\n",
       " [],\n",
       " [],\n",
       " [],\n",
       " [],\n",
       " [{'funder': 'https://openalex.org/F4320306076',\n",
       "   'funder_display_name': 'National Science Foundation',\n",
       "   'award_id': 'ABI 1661218'},\n",
       "  {'funder': 'https://openalex.org/F4320332161',\n",
       "   'funder_display_name': 'National Institutes of Health',\n",
       "   'award_id': 'R01GM126567-01'}],\n",
       " [],\n",
       " [],\n",
       " [],\n",
       " [],\n",
       " [],\n",
       " [],\n",
       " [],\n",
       " [],\n",
       " [],\n",
       " [],\n",
       " [],\n",
       " [],\n",
       " [],\n",
       " [],\n",
       " [],\n",
       " [],\n",
       " [],\n",
       " [],\n",
       " [],\n",
       " [],\n",
       " [],\n",
       " []]"
      ]
     },
     "execution_count": 216,
     "metadata": {},
     "output_type": "execute_result"
    }
   ],
   "source": [
    "grants"
   ]
  }
 ],
 "metadata": {
  "kernelspec": {
   "display_name": "Python 3 (ipykernel)",
   "language": "python",
   "name": "python3"
  },
  "language_info": {
   "codemirror_mode": {
    "name": "ipython",
    "version": 3
   },
   "file_extension": ".py",
   "mimetype": "text/x-python",
   "name": "python",
   "nbconvert_exporter": "python",
   "pygments_lexer": "ipython3",
   "version": "3.9.13"
  }
 },
 "nbformat": 4,
 "nbformat_minor": 5
}
